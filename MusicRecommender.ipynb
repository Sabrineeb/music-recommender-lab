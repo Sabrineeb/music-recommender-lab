{
 "cells": [
  {
   "cell_type": "code",
   "execution_count": null,
   "id": "6526080d-c049-4b67-b542-5cf9a8cd82e5",
   "metadata": {},
   "outputs": [],
   "source": [
    "import pandas as pd\n",
    "import numpy as np\n",
    "from sklearn.model_selection import train_test_split\n",
    "from sklearn.tree import DecisionTreeClassifier\n",
    "from sklearn.metrics import accuracy_score\n",
    "import joblib"
   ]
  },
  {
   "cell_type": "code",
   "execution_count": null,
   "id": "55e1d72d-d333-4d07-b6e9-1a59d284f21a",
   "metadata": {},
   "outputs": [],
   "source": [
    "df = pd.read_csv('music.csv')"
   ]
  },
  {
   "cell_type": "code",
   "execution_count": 11,
   "id": "d1a8ac8c-fae7-4855-9a6a-31b81b1bd160",
   "metadata": {},
   "outputs": [
    {
     "name": "stdout",
     "output_type": "stream",
     "text": [
      "   age  gender      genre\n",
      "0   20       1       Rock\n",
      "1   22       0     HipHop\n",
      "2   25       1       Jazz\n",
      "3   23       0  Classical\n",
      "4   30       1       Rock\n",
      "             age    gender\n",
      "count   8.000000  8.000000\n",
      "mean   23.500000  0.500000\n",
      "std     3.891382  0.534522\n",
      "min    19.000000  0.000000\n",
      "25%    20.750000  0.000000\n",
      "50%    22.500000  0.500000\n",
      "75%    25.750000  1.000000\n",
      "max    30.000000  1.000000\n",
      "(8, 3)\n",
      "Accuracy: 0.0\n"
     ]
    },
    {
     "data": {
      "text/plain": [
       "['music_recommender.joblib']"
      ]
     },
     "execution_count": 11,
     "metadata": {},
     "output_type": "execute_result"
    }
   ],
   "source": [
    "import pandas as pd\n",
    "import numpy as np\n",
    "from sklearn.model_selection import train_test_split\n",
    "from sklearn.tree import DecisionTreeClassifier\n",
    "from sklearn.metrics import accuracy_score\n",
    "import joblib\n",
    "\n",
    "# Charger le fichier CSV\n",
    "import pandas as pd\n",
    "import os\n",
    "\n",
    "# Créer le fichier CSV si absent\n",
    "if not os.path.exists('music.csv'):\n",
    "    data = {\n",
    "        'age': [20, 22, 25, 23, 30, 28, 21, 19],\n",
    "        'gender': [1, 0, 1, 0, 1, 0, 1, 0],\n",
    "        'genre': ['Rock', 'HipHop', 'Jazz', 'Classical', 'Rock', 'Electronic', 'Country', 'HipHop']\n",
    "    }\n",
    "    df = pd.DataFrame(data)\n",
    "    df.to_csv('music.csv', index=False)\n",
    "\n",
    "print(df.head())       # Affiche les 5 premières lignes\n",
    "print(df.describe())   # Résumé statistique\n",
    "print(df.shape)        # Dimensions du DataFrame\n",
    "\n",
    "# Séparer les features et la cible\n",
    "X = df.drop(columns=['genre'])\n",
    "y = df['genre']\n",
    "\n",
    "# Diviser en train et test\n",
    "X_train, X_test, y_train, y_test = train_test_split(X, y, test_size=0.2, random_state=42)\n",
    "\n",
    "# Créer et entraîner le modèle\n",
    "model = DecisionTreeClassifier()\n",
    "model.fit(X_train, y_train)\n",
    "\n",
    "# Évaluer le modèle\n",
    "predictions = model.predict(X_test)\n",
    "print(\"Accuracy:\", accuracy_score(y_test, predictions))\n",
    "\n",
    "# Sauvegarder le modèle\n",
    "joblib.dump(model, 'music_recommender.joblib')\n"
   ]
  },
  {
   "cell_type": "code",
   "execution_count": null,
   "id": "bb73fa28-e088-4a1d-9658-fb5ea0b3b914",
   "metadata": {},
   "outputs": [],
   "source": []
  },
  {
   "cell_type": "code",
   "execution_count": null,
   "id": "0c9e746e-882b-4260-aaed-1e16701eb23c",
   "metadata": {},
   "outputs": [],
   "source": []
  }
 ],
 "metadata": {
  "kernelspec": {
   "display_name": "Python [conda env:base] *",
   "language": "python",
   "name": "conda-base-py"
  },
  "language_info": {
   "codemirror_mode": {
    "name": "ipython",
    "version": 3
   },
   "file_extension": ".py",
   "mimetype": "text/x-python",
   "name": "python",
   "nbconvert_exporter": "python",
   "pygments_lexer": "ipython3",
   "version": "3.12.7"
  }
 },
 "nbformat": 4,
 "nbformat_minor": 5
}
